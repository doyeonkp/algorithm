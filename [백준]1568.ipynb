{
  "nbformat": 4,
  "nbformat_minor": 0,
  "metadata": {
    "colab": {
      "name": "[백준]1568.ipynb",
      "provenance": [],
      "authorship_tag": "ABX9TyNsuMom6p0v3aFHTKbhGrWw",
      "include_colab_link": true
    },
    "kernelspec": {
      "name": "python3",
      "display_name": "Python 3"
    },
    "language_info": {
      "name": "python"
    }
  },
  "cells": [
    {
      "cell_type": "markdown",
      "metadata": {
        "id": "view-in-github",
        "colab_type": "text"
      },
      "source": [
        "<a href=\"https://colab.research.google.com/github/doyeonkp/algorithm/blob/main/%5B%EB%B0%B1%EC%A4%80%5D1568.ipynb\" target=\"_parent\"><img src=\"https://colab.research.google.com/assets/colab-badge.svg\" alt=\"Open In Colab\"/></a>"
      ]
    },
    {
      "cell_type": "code",
      "metadata": {
        "colab": {
          "base_uri": "https://localhost:8080/"
        },
        "id": "SjTnFLG0YT08",
        "outputId": "ac9c3d2a-a574-439c-a976-2280e4e91cc0"
      },
      "source": [
        "# https://www.acmicpc.net/problem/1568\n",
        "\n",
        "bird = int(input())\n",
        "cnt = 0\n",
        "leave = 1\n",
        "\n",
        "while bird != 0:\n",
        "    if bird < leave:\n",
        "        leave = 1\n",
        "    else:\n",
        "        print(bird, leave)\n",
        "        bird -= leave\n",
        "        cnt += 1\n",
        "        leave += 1\n",
        "\n",
        "print(cnt)"
      ],
      "execution_count": 11,
      "outputs": [
        {
          "output_type": "stream",
          "text": [
            "14\n",
            "14 1\n",
            "13 2\n",
            "11 3\n",
            "8 4\n",
            "4 1\n",
            "3 2\n",
            "1 1\n",
            "7\n"
          ],
          "name": "stdout"
        }
      ]
    },
    {
      "cell_type": "code",
      "metadata": {
        "id": "favtl2msYutY"
      },
      "source": [
        ""
      ],
      "execution_count": null,
      "outputs": []
    }
  ]
}