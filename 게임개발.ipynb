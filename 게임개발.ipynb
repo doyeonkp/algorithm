{
  "nbformat": 4,
  "nbformat_minor": 0,
  "metadata": {
    "colab": {
      "name": "게임개발.ipynb",
      "provenance": [],
      "collapsed_sections": [],
      "authorship_tag": "ABX9TyNCEv3dlT5mvzDheNg9R06k",
      "include_colab_link": true
    },
    "kernelspec": {
      "name": "python3",
      "display_name": "Python 3"
    },
    "language_info": {
      "name": "python"
    }
  },
  "cells": [
    {
      "cell_type": "markdown",
      "metadata": {
        "id": "view-in-github",
        "colab_type": "text"
      },
      "source": [
        "<a href=\"https://colab.research.google.com/github/doyeonkp/algorithm/blob/main/%EA%B2%8C%EC%9E%84%EA%B0%9C%EB%B0%9C.ipynb\" target=\"_parent\"><img src=\"https://colab.research.google.com/assets/colab-badge.svg\" alt=\"Open In Colab\"/></a>"
      ]
    },
    {
      "cell_type": "code",
      "metadata": {
        "id": "UujvcYjK1Zze",
        "colab": {
          "base_uri": "https://localhost:8080/"
        },
        "outputId": "30bc4d2f-eb24-4285-9770-41129a681258"
      },
      "source": [
        "# n, m =4,4\n",
        "# curX, curY, d = 1, 1, 0\n",
        "# game_map = [[1,1,1,1],[1,0,0,1],[1,1,0,1],[1,1,1,1]]\n",
        "\n",
        "n,m = map(int,input().split())\n",
        "\n",
        "curX, curY, d = map(int, input().split())\n",
        "\n",
        "visited = [[0] * m for _ in range(n)]\n",
        "\n",
        "dx = [-1,0,1,0]\n",
        "dy = [0,1,0,-1]\n",
        "\n",
        "game_map = []\n",
        "for i in range(n):\n",
        "    tmp = list(map(int, input().split()))\n",
        "    game_map.append(tmp)\n",
        "\n",
        "cnt = 0\n",
        "cnt_finish = 0\n",
        "\n",
        "if game_map[curX][curY] == 0:\n",
        "    visited[curX][curY] = 1\n",
        "    cnt += 1\n",
        "\n",
        "while True:\n",
        "    if d <= -len(dx):\n",
        "        d %= len(dx)\n",
        "\n",
        "    nx = curX + dx[d]\n",
        "    ny = curY + dy[d]\n",
        "\n",
        "    if game_map[nx][ny] != 1 and nx < n and ny < m and visited[nx][ny] != 1:\n",
        "        curX = nx\n",
        "        curY = ny\n",
        "        visited[nx][ny] = 1\n",
        "        cnt += 1\n",
        "        cnt_finish = 0\n",
        "\n",
        "    else:\n",
        "        d -= 1\n",
        "        cnt_finish += 1\n",
        "\n",
        "    if cnt_finish == 4:\n",
        "        nx = curX - dx[d]\n",
        "        ny = curY - dy[d]\n",
        "        if game_map[nx][ny] == 0:\n",
        "            curX = nx\n",
        "            curY = ny\n",
        "            cnt_finish = 0\n",
        "        else:\n",
        "            break\n",
        "\n",
        "print(cnt)"
      ],
      "execution_count": 32,
      "outputs": [
        {
          "output_type": "stream",
          "text": [
            "4 4\n",
            "1 1 0\n",
            "1 1 1 1\n",
            "1 0 0 1\n",
            "1 1 0 1\n",
            "1 1 1 1\n",
            "0 1  :  1 0 1 0\n",
            "1 0  :  1 0 1 1\n",
            "2 1  :  1 0 1 2\n",
            "1 2  :  0 0 1 3\n",
            "1 3  :  1 0 2 0\n",
            "0 2  :  1 0 2 1\n",
            "1 1  :  0 1 2 2\n",
            "2 2  :  0 0 2 3\n",
            "3 2  :  1 0 3 0\n",
            "2 3  :  1 0 3 1\n",
            "1 2  :  0 1 3 2\n",
            "2 1  :  1 0 3 3\n",
            "lotation max\n",
            "-2\n",
            "2 2\n",
            "1 2 0\n",
            "2 2  :  0 1 3 0\n",
            "1 3  :  1 0 3 1\n",
            "0 2  :  1 0 3 2\n",
            "1 1  :  0 1 3 3\n",
            "lotation max\n",
            "-2\n",
            "1 2\n",
            "0 2 1\n",
            "3\n"
          ],
          "name": "stdout"
        }
      ]
    },
    {
      "cell_type": "code",
      "metadata": {
        "colab": {
          "base_uri": "https://localhost:8080/"
        },
        "id": "cN4yRfPdCI86",
        "outputId": "8c4cf2a8-2d39-42f3-9644-79f802de9c0e"
      },
      "source": [
        "n,m = map(int,input().split())\n",
        "\n",
        "d = [[0] * m for _ in range(n)]\n",
        "\n",
        "x, y, direction = map(int, input().split())\n",
        "d[x][y] = 1\n",
        "\n",
        "array = []\n",
        "\n",
        "for i in range(n):\n",
        "    array.append(list(map(int,input().split())))\n",
        "\n",
        "dx = [-1,0,1,0]\n",
        "dy = [0,1,0,-1]\n",
        "\n",
        "def turn_left():\n",
        "    global direction\n",
        "    direction -= 1\n",
        "    if direction == -1:\n",
        "        direction = 3\n",
        "\n",
        "count = 1\n",
        "turn_time = 0\n",
        "while True:\n",
        "    turn_left()\n",
        "    nx = x + dx[direction]\n",
        "    ny = y + dy[direction]\n",
        "\n",
        "    if d[nx][ny] == 0 and array[nx][ny] == 0:\n",
        "        d[nx][ny] = 1\n",
        "        x = nx\n",
        "        y = ny\n",
        "        count += 1\n",
        "        turn_time = 0\n",
        "        continue\n",
        "    else:\n",
        "        turn_time += 1\n",
        "    \n",
        "    if turn_time == 4:\n",
        "        nx = x-dx[direction]\n",
        "        ny = y-dy[direction]\n",
        "\n",
        "        if array[nx][ny] == 0:\n",
        "            x = nx\n",
        "            y = ny\n",
        "        else:\n",
        "            break\n",
        "        turn_time = 0\n",
        "print(count)"
      ],
      "execution_count": 33,
      "outputs": [
        {
          "output_type": "stream",
          "text": [
            "4 4\n",
            "1 1 0\n",
            "1 1 1 1\n",
            "1 0 0 1\n",
            "1 1 0 1\n",
            "1 1 1 1\n",
            "3\n"
          ],
          "name": "stdout"
        }
      ]
    },
    {
      "cell_type": "code",
      "metadata": {
        "id": "wBVnyWnPcoM3"
      },
      "source": [
        ""
      ],
      "execution_count": null,
      "outputs": []
    }
  ]
}