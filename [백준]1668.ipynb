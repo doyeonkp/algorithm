{
  "nbformat": 4,
  "nbformat_minor": 0,
  "metadata": {
    "colab": {
      "name": "[백준]1668.ipynb",
      "provenance": [],
      "authorship_tag": "ABX9TyOQ7DHflZpys68hUpa8ojO7",
      "include_colab_link": true
    },
    "kernelspec": {
      "name": "python3",
      "display_name": "Python 3"
    },
    "language_info": {
      "name": "python"
    }
  },
  "cells": [
    {
      "cell_type": "markdown",
      "metadata": {
        "id": "view-in-github",
        "colab_type": "text"
      },
      "source": [
        "<a href=\"https://colab.research.google.com/github/doyeonkp/algorithm/blob/main/%5B%EB%B0%B1%EC%A4%80%5D1668.ipynb\" target=\"_parent\"><img src=\"https://colab.research.google.com/assets/colab-badge.svg\" alt=\"Open In Colab\"/></a>"
      ]
    },
    {
      "cell_type": "code",
      "metadata": {
        "colab": {
          "base_uri": "https://localhost:8080/"
        },
        "id": "0OLF-Lwpwk6X",
        "outputId": "1f368f48-6138-4bd1-ae22-28df6aee2e65"
      },
      "source": [
        "# https://www.acmicpc.net/problem/1668\n",
        "\n",
        "n = int(input())\n",
        "shelf = []\n",
        "right, left, tmp = 0,0,0\n",
        "\n",
        "for _ in range(n):\n",
        "    height = int(input())\n",
        "    shelf.append(height)\n",
        "\n",
        "for i in range(n):\n",
        "    if shelf[i] > tmp:\n",
        "        left += 1\n",
        "        tmp = shelf[i]\n",
        "    else: continue\n",
        "\n",
        "tmp = 0\n",
        "for i in range(n-1, -1, -1):\n",
        "    if shelf[i] > tmp:\n",
        "        right += 1\n",
        "        tmp = shelf[i]\n",
        "    else: continue\n",
        "\n",
        "print(left)\n",
        "print(right)"
      ],
      "execution_count": 13,
      "outputs": [
        {
          "output_type": "stream",
          "text": [
            "5\n",
            "1\n",
            "2\n",
            "3\n",
            "4\n",
            "5\n",
            "5\n",
            "1\n"
          ],
          "name": "stdout"
        }
      ]
    }
  ]
}