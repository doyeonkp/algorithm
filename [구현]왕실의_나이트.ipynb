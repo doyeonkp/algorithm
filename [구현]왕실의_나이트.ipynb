{
  "nbformat": 4,
  "nbformat_minor": 0,
  "metadata": {
    "colab": {
      "name": "[구현]왕실의 나이트.ipynb",
      "provenance": [],
      "authorship_tag": "ABX9TyOoanRMwzAJKF2/CYa74Hlk",
      "include_colab_link": true
    },
    "kernelspec": {
      "name": "python3",
      "display_name": "Python 3"
    },
    "language_info": {
      "name": "python"
    }
  },
  "cells": [
    {
      "cell_type": "markdown",
      "metadata": {
        "id": "view-in-github",
        "colab_type": "text"
      },
      "source": [
        "<a href=\"https://colab.research.google.com/github/doyeonkp/algorithm/blob/main/%5B%EA%B5%AC%ED%98%84%5D%EC%99%95%EC%8B%A4%EC%9D%98_%EB%82%98%EC%9D%B4%ED%8A%B8.ipynb\" target=\"_parent\"><img src=\"https://colab.research.google.com/assets/colab-badge.svg\" alt=\"Open In Colab\"/></a>"
      ]
    },
    {
      "cell_type": "code",
      "metadata": {
        "colab": {
          "base_uri": "https://localhost:8080/"
        },
        "id": "GrXsuv86vXPV",
        "outputId": "e8f5add4-d261-4c51-ae62-35cf4a3f0319"
      },
      "source": [
        "input_data = input()\n",
        "x = int(input_data[1])\n",
        "y = int(ord(input_data[0])) - int(ord('a'))+1\n",
        "\n",
        "knight_step = [[-2,1],[-2,-1],[2,1],[2,-1],[1,-2],[1,2],[-1,-2],[-1,2]]\n",
        "cnt = 0\n",
        "for i in knight_step:\n",
        "    nx = x+i[0]\n",
        "    ny = y+i[1]\n",
        "\n",
        "    if nx <= 0 or ny <= 0 or nx > 8 or ny > 8:\n",
        "        continue\n",
        "    cnt+=1\n",
        "print(cnt)"
      ],
      "execution_count": 5,
      "outputs": [
        {
          "output_type": "stream",
          "text": [
            "a1\n",
            "-1 2\n",
            "-1 0\n",
            "3 0\n",
            "2 -1\n",
            "0 -1\n",
            "0 3\n",
            "2\n"
          ],
          "name": "stdout"
        }
      ]
    }
  ]
}