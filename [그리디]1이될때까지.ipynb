{
  "nbformat": 4,
  "nbformat_minor": 0,
  "metadata": {
    "colab": {
      "name": "[그리디]1이될때까지.ipynb",
      "provenance": [],
      "authorship_tag": "ABX9TyM5zDJ7z9Uo0/PJgmDcsl/c",
      "include_colab_link": true
    },
    "kernelspec": {
      "name": "python3",
      "display_name": "Python 3"
    },
    "language_info": {
      "name": "python"
    }
  },
  "cells": [
    {
      "cell_type": "markdown",
      "metadata": {
        "id": "view-in-github",
        "colab_type": "text"
      },
      "source": [
        "<a href=\"https://colab.research.google.com/github/doyeonkp/algorithm/blob/main/%5B%EA%B7%B8%EB%A6%AC%EB%94%94%5D1%EC%9D%B4%EB%90%A0%EB%95%8C%EA%B9%8C%EC%A7%80.ipynb\" target=\"_parent\"><img src=\"https://colab.research.google.com/assets/colab-badge.svg\" alt=\"Open In Colab\"/></a>"
      ]
    },
    {
      "cell_type": "code",
      "metadata": {
        "colab": {
          "base_uri": "https://localhost:8080/"
        },
        "id": "I3928-ZV7Zz7",
        "outputId": "b14137ef-b36d-4c6f-e438-aaa5debcd6ed"
      },
      "source": [
        "def calc(n,k,cnt):\n",
        "    if n <= 1:\n",
        "        return cnt\n",
        "    if n % k == 0:\n",
        "        n = n // k\n",
        "    else:\n",
        "        n = n - 1\n",
        "    cnt += 1\n",
        "    return calc(n,k, cnt)\n",
        "\n",
        "n,k = map(int, input().split())\n",
        "cnt = 0\n",
        "print(calc(n,k,cnt))"
      ],
      "execution_count": 45,
      "outputs": [
        {
          "output_type": "stream",
          "text": [
            "973 9\n",
            "7\n"
          ],
          "name": "stdout"
        }
      ]
    },
    {
      "cell_type": "code",
      "metadata": {
        "colab": {
          "base_uri": "https://localhost:8080/"
        },
        "id": "xE60Lc1i-knU",
        "outputId": "c5bfc4f4-084f-461e-e1c6-713bb5c828eb"
      },
      "source": [
        "n,k = map(int, input().split())\n",
        "result = 0\n",
        "\n",
        "while n >= k:\n",
        "    while n % k != 0:\n",
        "        n -= 1\n",
        "        result += 1\n",
        "    n //= k\n",
        "    result += 1\n",
        "\n",
        "while n > 1:\n",
        "    n-=1\n",
        "    result += 1\n",
        "print(result)"
      ],
      "execution_count": 46,
      "outputs": [
        {
          "output_type": "stream",
          "text": [
            "973 9\n",
            "7\n"
          ],
          "name": "stdout"
        }
      ]
    },
    {
      "cell_type": "code",
      "metadata": {
        "id": "oxm6JAnA1jAh"
      },
      "source": [
        ""
      ],
      "execution_count": null,
      "outputs": []
    }
  ]
}