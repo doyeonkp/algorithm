{
  "nbformat": 4,
  "nbformat_minor": 0,
  "metadata": {
    "colab": {
      "name": "[그리디]큰수의법칙.ipynb",
      "provenance": [],
      "collapsed_sections": [],
      "authorship_tag": "ABX9TyM5/5+to3GCoCHwlDi35m0r",
      "include_colab_link": true
    },
    "kernelspec": {
      "name": "python3",
      "display_name": "Python 3"
    },
    "language_info": {
      "name": "python"
    }
  },
  "cells": [
    {
      "cell_type": "markdown",
      "metadata": {
        "id": "view-in-github",
        "colab_type": "text"
      },
      "source": [
        "<a href=\"https://colab.research.google.com/github/doyeonkp/algorithm/blob/main/%5B%EA%B7%B8%EB%A6%AC%EB%94%94%5D%ED%81%B0%EC%88%98%EC%9D%98%EB%B2%95%EC%B9%99.ipynb\" target=\"_parent\"><img src=\"https://colab.research.google.com/assets/colab-badge.svg\" alt=\"Open In Colab\"/></a>"
      ]
    },
    {
      "cell_type": "code",
      "metadata": {
        "colab": {
          "base_uri": "https://localhost:8080/"
        },
        "id": "At5wQuHJ-Itd",
        "outputId": "0697668e-7dca-40bf-ad1c-ca30d5875633"
      },
      "source": [
        "n,m,k = map(int, input().split())\n",
        "data = list(map(int, input().split()))\n",
        "\n",
        "data.sort()\n",
        "ans = 0\n",
        "j = 0\n",
        "if m == 0:\n",
        "    print(\"m is 0\")\n",
        "    exit()\n",
        "\n",
        "for i in range(m):\n",
        "    if j >= k:\n",
        "        ans += data[-2]\n",
        "        j = 0\n",
        "    else:\n",
        "        ans += data[-1]\n",
        "        j += 1\n",
        "print(ans)"
      ],
      "execution_count": 2,
      "outputs": [
        {
          "output_type": "stream",
          "text": [
            "5 8 3\n",
            "2 4 5 4 6\n",
            "46\n"
          ],
          "name": "stdout"
        }
      ]
    }
  ]
}