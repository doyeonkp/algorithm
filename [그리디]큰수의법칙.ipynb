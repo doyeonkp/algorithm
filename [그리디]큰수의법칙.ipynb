{
  "nbformat": 4,
  "nbformat_minor": 0,
  "metadata": {
    "colab": {
      "name": "[그리디]큰수의법칙.ipynb",
      "provenance": [],
      "collapsed_sections": [],
      "authorship_tag": "ABX9TyM064vJZXiBNq1mzl+gY2ZX",
      "include_colab_link": true
    },
    "kernelspec": {
      "name": "python3",
      "display_name": "Python 3"
    },
    "language_info": {
      "name": "python"
    }
  },
  "cells": [
    {
      "cell_type": "markdown",
      "metadata": {
        "id": "view-in-github",
        "colab_type": "text"
      },
      "source": [
        "<a href=\"https://colab.research.google.com/github/doyeonkp/algorithm/blob/main/%5B%EA%B7%B8%EB%A6%AC%EB%94%94%5D%ED%81%B0%EC%88%98%EC%9D%98%EB%B2%95%EC%B9%99.ipynb\" target=\"_parent\"><img src=\"https://colab.research.google.com/assets/colab-badge.svg\" alt=\"Open In Colab\"/></a>"
      ]
    },
    {
      "cell_type": "code",
      "metadata": {
        "colab": {
          "base_uri": "https://localhost:8080/"
        },
        "id": "At5wQuHJ-Itd",
        "outputId": "0697668e-7dca-40bf-ad1c-ca30d5875633"
      },
      "source": [
        "n,m,k = map(int, input().split())\n",
        "data = list(map(int, input().split()))\n",
        "\n",
        "data.sort()\n",
        "ans = 0\n",
        "j = 0\n",
        "if m == 0:\n",
        "    print(\"m is 0\")\n",
        "    exit()\n",
        "\n",
        "for i in range(m):\n",
        "    if j >= k:\n",
        "        ans += data[-2]\n",
        "        j = 0\n",
        "    else:\n",
        "        ans += data[-1]\n",
        "        j += 1\n",
        "print(ans)"
      ],
      "execution_count": null,
      "outputs": [
        {
          "output_type": "stream",
          "text": [
            "5 8 3\n",
            "2 4 5 4 6\n",
            "46\n"
          ],
          "name": "stdout"
        }
      ]
    },
    {
      "cell_type": "code",
      "metadata": {
        "colab": {
          "base_uri": "https://localhost:8080/"
        },
        "id": "PSkbv-JIBPlm",
        "outputId": "66627a9a-0fef-4ff4-ad45-f4b67b755f60"
      },
      "source": [
        "# 수학적 아이디어를 이용한 풀이\n",
        "# int(M/(K+1)) * K + M % (K+1)을 이용하여\n",
        "# 가장큰 수가 더해지는 값을 더한 후 그다음으로 큰 수를 더하는것으로\n",
        "# 답을 구한다.\n",
        "n,m,k = map(int, input().split())\n",
        "data = list(map(int, input().split()))\n",
        "\n",
        "data.sort()\n",
        "first = data[n-1] #가장 큰 수\n",
        "second = data[n-2] #두번째로 큰 수\n",
        "\n",
        "count = int(m / (k+1)) * k\n",
        "count += m%(k+1)\n",
        "\n",
        "result = 0\n",
        "result += (count) * first #가장큰 수 더하기\n",
        "result += (m-count) * second #두번째로 큰 수 더하기\n",
        "\n",
        "print(result)"
      ],
      "execution_count": 5,
      "outputs": [
        {
          "output_type": "stream",
          "text": [
            "5 8 3\n",
            "2 4 5 4 6\n",
            "46\n"
          ],
          "name": "stdout"
        }
      ]
    },
    {
      "cell_type": "code",
      "metadata": {
        "id": "47eMNWq7CNIy"
      },
      "source": [
        ""
      ],
      "execution_count": null,
      "outputs": []
    }
  ]
}