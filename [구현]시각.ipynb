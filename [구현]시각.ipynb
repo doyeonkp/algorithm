{
  "nbformat": 4,
  "nbformat_minor": 0,
  "metadata": {
    "colab": {
      "name": "[구현]시각.ipynb",
      "provenance": [],
      "authorship_tag": "ABX9TyOotxV1/lRudrmU7z6jWRc4",
      "include_colab_link": true
    },
    "kernelspec": {
      "name": "python3",
      "display_name": "Python 3"
    },
    "language_info": {
      "name": "python"
    }
  },
  "cells": [
    {
      "cell_type": "markdown",
      "metadata": {
        "id": "view-in-github",
        "colab_type": "text"
      },
      "source": [
        "<a href=\"https://colab.research.google.com/github/doyeonkp/algorithm/blob/main/%5B%EA%B5%AC%ED%98%84%5D%EC%8B%9C%EA%B0%81.ipynb\" target=\"_parent\"><img src=\"https://colab.research.google.com/assets/colab-badge.svg\" alt=\"Open In Colab\"/></a>"
      ]
    },
    {
      "cell_type": "code",
      "metadata": {
        "colab": {
          "base_uri": "https://localhost:8080/"
        },
        "id": "Qdp-tF25GVYm",
        "outputId": "c698f7c3-9a9c-4075-c7c2-ebde33a4b0db"
      },
      "source": [
        "#총 경우의 수가 86,400 밖에 안되서 for loop을 3중으로 사용해도 된다 하는데....\n",
        "# 경우의 수를 이용하여 구현하는 방법을 생각해봐야할듯...\n",
        "hour = int(input())\n",
        "cnt = 0\n",
        "for i in range(hour+1):\n",
        "    for j in range(60):\n",
        "        for k in range(60):\n",
        "            if \"3\" in str(i) + str(j) + str(k):\n",
        "                cnt += 1\n",
        "print(cnt)"
      ],
      "execution_count": 3,
      "outputs": [
        {
          "output_type": "stream",
          "text": [
            "5\n",
            "11475\n"
          ],
          "name": "stdout"
        }
      ]
    },
    {
      "cell_type": "code",
      "metadata": {
        "id": "HNQy9vzEHiob"
      },
      "source": [
        ""
      ],
      "execution_count": null,
      "outputs": []
    }
  ]
}