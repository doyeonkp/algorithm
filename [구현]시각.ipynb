{
  "nbformat": 4,
  "nbformat_minor": 0,
  "metadata": {
    "colab": {
      "name": "[구현]시각.ipynb",
      "provenance": [],
      "authorship_tag": "ABX9TyMoE7Zm9FbXR3Fvkjkptvrc",
      "include_colab_link": true
    },
    "kernelspec": {
      "name": "python3",
      "display_name": "Python 3"
    },
    "language_info": {
      "name": "python"
    }
  },
  "cells": [
    {
      "cell_type": "markdown",
      "metadata": {
        "id": "view-in-github",
        "colab_type": "text"
      },
      "source": [
        "<a href=\"https://colab.research.google.com/github/doyeonkp/algorithm/blob/main/%5B%EA%B5%AC%ED%98%84%5D%EC%8B%9C%EA%B0%81.ipynb\" target=\"_parent\"><img src=\"https://colab.research.google.com/assets/colab-badge.svg\" alt=\"Open In Colab\"/></a>"
      ]
    },
    {
      "cell_type": "code",
      "metadata": {
        "colab": {
          "base_uri": "https://localhost:8080/"
        },
        "id": "Qdp-tF25GVYm",
        "outputId": "c698f7c3-9a9c-4075-c7c2-ebde33a4b0db"
      },
      "source": [
        "#총 경우의 수가 86,400 밖에 안되서 for loop을 3중으로 사용해도 된다 하는데....\n",
        "# 경우의 수를 이용하여 구현하는 방법을 생각해봐야할듯...\n",
        "hour = int(input())\n",
        "cnt = 0\n",
        "for i in range(hour+1):\n",
        "    for j in range(60):\n",
        "        for k in range(60):\n",
        "            if \"3\" in str(i) + str(j) + str(k):\n",
        "                cnt += 1\n",
        "print(cnt)"
      ],
      "execution_count": null,
      "outputs": [
        {
          "output_type": "stream",
          "text": [
            "5\n",
            "11475\n"
          ],
          "name": "stdout"
        }
      ]
    },
    {
      "cell_type": "code",
      "metadata": {
        "id": "HNQy9vzEHiob",
        "outputId": "215c964f-510c-48a8-86fa-38525c834cb1",
        "colab": {
          "base_uri": "https://localhost:8080/"
        }
      },
      "source": [
        "# 경우의 수를 이용하여 구현\n",
        "# hh:mm:ss 3자리중 한자리에 최소 한번이라도 3이 나와야함으로\n",
        "# 3이 나오지 않는 여사건을 구하여 전체에서 여사건수를 뺴주면 된다.\n",
        "# 즉, hour가 5가 들어올경우 (0,1,2,3,4,5)시간중 3이 아닌 경우의 수는 0,1,2,4,5 총 5개\n",
        "# min과 sec의 전체의 수는 60 중 3을 포함하지 않는 경우의 수는 45 -> 동시 발생 경우의 수는  5*45*45\n",
        "# 전체의 경우의 수는 hour(0시를 포함하여야함으로 +1을 해준수) * 60 * 60 에서 위에서 구한 여사건수를 빼줌\n",
        "hour = int(input()) + 1\n",
        "cnt = 0\n",
        "\n",
        "for i in range(hour+1):\n",
        "    if \"3\" in str(i):\n",
        "        cnt += 1\n",
        "\n",
        "tmp = (hour - cnt) * 45 * 45\n",
        "print(((hour)*60*60)-tmp)"
      ],
      "execution_count": 21,
      "outputs": [
        {
          "output_type": "stream",
          "text": [
            "5\n",
            "11475\n"
          ],
          "name": "stdout"
        }
      ]
    },
    {
      "cell_type": "code",
      "metadata": {
        "id": "ziCxz8Cgwmus"
      },
      "source": [
        ""
      ],
      "execution_count": null,
      "outputs": []
    }
  ]
}