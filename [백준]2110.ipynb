{
  "nbformat": 4,
  "nbformat_minor": 0,
  "metadata": {
    "colab": {
      "name": "[백준]2110.ipynb",
      "provenance": [],
      "authorship_tag": "ABX9TyPPhAamZgs9go2O7rlH2rs9",
      "include_colab_link": true
    },
    "kernelspec": {
      "name": "python3",
      "display_name": "Python 3"
    },
    "language_info": {
      "name": "python"
    }
  },
  "cells": [
    {
      "cell_type": "markdown",
      "metadata": {
        "id": "view-in-github",
        "colab_type": "text"
      },
      "source": [
        "<a href=\"https://colab.research.google.com/github/doyeonkp/algorithm/blob/main/%5B%EB%B0%B1%EC%A4%80%5D2110.ipynb\" target=\"_parent\"><img src=\"https://colab.research.google.com/assets/colab-badge.svg\" alt=\"Open In Colab\"/></a>"
      ]
    },
    {
      "cell_type": "code",
      "metadata": {
        "colab": {
          "base_uri": "https://localhost:8080/"
        },
        "id": "xY_O6GsQEUjE",
        "outputId": "ecf3ac3b-0f97-4b75-8ac6-d2ae6e16ea0b"
      },
      "source": [
        "#https://www.acmicpc.net/problem/2110\n",
        "\n",
        "n, c = list(map(int, input().split(' ')))\n",
        "array = []\n",
        "for _ in range(n):\n",
        "    array.append(int(input()))\n",
        "array = sorted(array)\n",
        "\n",
        "start = 1\n",
        "end = array[-1] - array[0]\n",
        "result = 0\n",
        "\n",
        "while start <= end:\n",
        "    mid = (start + end) // 2\n",
        "    value = array[0]\n",
        "    cnt = 1\n",
        "    for i in range(1, len(array)):\n",
        "        if array[i] >= value + mid:\n",
        "            value = array[i]\n",
        "            cnt += 1\n",
        "    if cnt >= c:\n",
        "        start = mid + 1\n",
        "        result = mid\n",
        "    else:\n",
        "        end -= 1\n",
        "print(result)"
      ],
      "execution_count": 3,
      "outputs": [
        {
          "output_type": "stream",
          "text": [
            "5 3\n",
            "1\n",
            "2\n",
            "8\n",
            "4\n",
            "9\n",
            "3\n"
          ],
          "name": "stdout"
        }
      ]
    },
    {
      "cell_type": "code",
      "metadata": {
        "id": "C4_hEu_qM6vL"
      },
      "source": [
        ""
      ],
      "execution_count": null,
      "outputs": []
    }
  ]
}