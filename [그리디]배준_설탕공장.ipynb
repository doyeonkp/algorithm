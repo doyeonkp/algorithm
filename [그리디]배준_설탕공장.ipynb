{
  "nbformat": 4,
  "nbformat_minor": 0,
  "metadata": {
    "colab": {
      "name": "[그리디]배준-설탕공장.ipynb",
      "provenance": [],
      "authorship_tag": "ABX9TyOsNxJbkrlMxQ2DRXwigTvi",
      "include_colab_link": true
    },
    "kernelspec": {
      "name": "python3",
      "display_name": "Python 3"
    },
    "language_info": {
      "name": "python"
    }
  },
  "cells": [
    {
      "cell_type": "markdown",
      "metadata": {
        "id": "view-in-github",
        "colab_type": "text"
      },
      "source": [
        "<a href=\"https://colab.research.google.com/github/doyeonkp/algorithm/blob/main/%5B%EA%B7%B8%EB%A6%AC%EB%94%94%5D%EB%B0%B0%EC%A4%80_%EC%84%A4%ED%83%95%EA%B3%B5%EC%9E%A5.ipynb\" target=\"_parent\"><img src=\"https://colab.research.google.com/assets/colab-badge.svg\" alt=\"Open In Colab\"/></a>"
      ]
    },
    {
      "cell_type": "markdown",
      "metadata": {
        "id": "X1aZ38Fr-P9J"
      },
      "source": [
        "상근이는 요즘 설탕공장에서 설탕을 배달하고 있다. 상근이는 지금 사탕가게에 설탕을 정확하게 N킬로그램을 배달해야 한다. 설탕공장에서 만드는 설탕은 봉지에 담겨져 있다. 봉지는 3킬로그램 봉지와 5킬로그램 봉지가 있다.\n",
        "\n",
        "상근이는 귀찮기 때문에, 최대한 적은 봉지를 들고 가려고 한다. 예를 들어, 18킬로그램 설탕을 배달해야 할 때, 3킬로그램 봉지 6개를 가져가도 되지만, 5킬로그램 3개와 3킬로그램 1개를 배달하면, 더 적은 개수의 봉지를 배달할 수 있다.\n",
        "\n",
        "상근이가 설탕을 정확하게 N킬로그램 배달해야 할 때, 봉지 몇 개를 가져가면 되는지 그 수를 구하는 프로그램을 작성하시오."
      ]
    },
    {
      "cell_type": "code",
      "metadata": {
        "colab": {
          "base_uri": "https://localhost:8080/"
        },
        "id": "FKgNPwr216Te",
        "outputId": "cfc325cf-987a-43fa-dec8-92f113bec1ef"
      },
      "source": [
        "m = int(input())\n",
        "cnt = 0\n",
        "\n",
        "while True:\n",
        "    if m < 0:\n",
        "        break\n",
        "    if m % 5 == 0:\n",
        "        cnt += (m//5)\n",
        "        m %= 5\n",
        "        print(cnt)\n",
        "\n",
        "    m -= 3\n",
        "    cnt+=1\n",
        "\n",
        "else:\n",
        "    print -1\n"
      ],
      "execution_count": 32,
      "outputs": [
        {
          "output_type": "stream",
          "text": [
            "11\n",
            "3\n"
          ],
          "name": "stdout"
        }
      ]
    },
    {
      "cell_type": "code",
      "metadata": {
        "colab": {
          "base_uri": "https://localhost:8080/"
        },
        "id": "UjF2tN9a3wf3",
        "outputId": "aab775b6-d3ad-47df-b329-29c0b6f434b0"
      },
      "source": [
        "114"
      ],
      "execution_count": 27,
      "outputs": [
        {
          "output_type": "execute_result",
          "data": {
            "text/plain": [
              "114"
            ]
          },
          "metadata": {
            "tags": []
          },
          "execution_count": 27
        }
      ]
    },
    {
      "cell_type": "code",
      "metadata": {
        "id": "b9qKsJo9LrTi"
      },
      "source": [
        ""
      ],
      "execution_count": null,
      "outputs": []
    }
  ]
}