{
  "nbformat": 4,
  "nbformat_minor": 0,
  "metadata": {
    "colab": {
      "name": "[백준]1543.ipynb",
      "provenance": [],
      "authorship_tag": "ABX9TyP2losf8IMkEBZmdw63fIQn",
      "include_colab_link": true
    },
    "kernelspec": {
      "name": "python3",
      "display_name": "Python 3"
    },
    "language_info": {
      "name": "python"
    }
  },
  "cells": [
    {
      "cell_type": "markdown",
      "metadata": {
        "id": "view-in-github",
        "colab_type": "text"
      },
      "source": [
        "<a href=\"https://colab.research.google.com/github/doyeonkp/algorithm/blob/main/%5B%EB%B0%B1%EC%A4%80%5D1543.ipynb\" target=\"_parent\"><img src=\"https://colab.research.google.com/assets/colab-badge.svg\" alt=\"Open In Colab\"/></a>"
      ]
    },
    {
      "cell_type": "code",
      "metadata": {
        "colab": {
          "base_uri": "https://localhost:8080/"
        },
        "id": "Um1NzmjTS7gK",
        "outputId": "a089fec7-d4df-4395-fd88-f4d3a1b771ab"
      },
      "source": [
        "#https://www.acmicpc.net/submit/1543\n",
        "\n",
        "document = input()\n",
        "word = input()\n",
        "\n",
        "cnt = 0\n",
        "i = 0\n",
        "while i < len(document):\n",
        "    print(i, i+len(word))\n",
        "    print(document[i:i+len(word)])\n",
        "    if document[i:i+len(word)] == word:\n",
        "        cnt += 1\n",
        "        i += len(word)\n",
        "    else:\n",
        "        i += 1\n",
        "print(cnt)"
      ],
      "execution_count": 6,
      "outputs": [
        {
          "output_type": "stream",
          "text": [
            "ababababa\n",
            "aba\n",
            "0 3\n",
            "aba\n",
            "3 6\n",
            "bab\n",
            "4 7\n",
            "aba\n",
            "7 10\n",
            "ba\n",
            "8 11\n",
            "a\n",
            "2\n"
          ],
          "name": "stdout"
        }
      ]
    },
    {
      "cell_type": "code",
      "metadata": {
        "id": "W_d_M9SHWHpT"
      },
      "source": [
        ""
      ],
      "execution_count": null,
      "outputs": []
    }
  ]
}