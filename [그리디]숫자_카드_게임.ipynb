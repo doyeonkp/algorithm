{
  "nbformat": 4,
  "nbformat_minor": 0,
  "metadata": {
    "colab": {
      "name": "[그리디]숫자 카드 게임.ipynb",
      "provenance": [],
      "authorship_tag": "ABX9TyO2MgFBCeSEeh61hvWOlh/g",
      "include_colab_link": true
    },
    "kernelspec": {
      "name": "python3",
      "display_name": "Python 3"
    },
    "language_info": {
      "name": "python"
    }
  },
  "cells": [
    {
      "cell_type": "markdown",
      "metadata": {
        "id": "view-in-github",
        "colab_type": "text"
      },
      "source": [
        "<a href=\"https://colab.research.google.com/github/doyeonkp/algorithm/blob/main/%5B%EA%B7%B8%EB%A6%AC%EB%94%94%5D%EC%88%AB%EC%9E%90_%EC%B9%B4%EB%93%9C_%EA%B2%8C%EC%9E%84.ipynb\" target=\"_parent\"><img src=\"https://colab.research.google.com/assets/colab-badge.svg\" alt=\"Open In Colab\"/></a>"
      ]
    },
    {
      "cell_type": "code",
      "metadata": {
        "colab": {
          "base_uri": "https://localhost:8080/"
        },
        "id": "WkBSB6BVAyg3",
        "outputId": "6d2847fc-9568-439b-9148-d7b016621307"
      },
      "source": [
        "n, m = map(int, input().split())\n",
        "result = 0\n",
        "ans = []\n",
        "for i in range(n):\n",
        "    data = list(map(int, input().split()))\n",
        "    ans.append(min(data))\n",
        "print(max(ans))"
      ],
      "execution_count": 1,
      "outputs": [
        {
          "output_type": "stream",
          "text": [
            "3 3\n",
            "3 1 2\n",
            "4 1 4\n",
            "2 2 2\n",
            "2\n"
          ],
          "name": "stdout"
        }
      ]
    },
    {
      "cell_type": "code",
      "metadata": {
        "colab": {
          "base_uri": "https://localhost:8080/"
        },
        "id": "99Ve5HfNMT1L",
        "outputId": "2a988c87-85f1-4934-e364-53df475b781f"
      },
      "source": [
        "#other solution\n",
        "n, m = map(int, input().split())\n",
        "result = 0\n",
        "\n",
        "for i in range(n):\n",
        "    data = list(map(int, input().split()))\n",
        "    result = max(result,min(data))\n",
        "    \n",
        "print(result)"
      ],
      "execution_count": 2,
      "outputs": [
        {
          "output_type": "stream",
          "text": [
            "3 3\n",
            "3 1 2\n",
            "4 1 4\n",
            "2 2 2\n",
            "2\n"
          ],
          "name": "stdout"
        }
      ]
    }
  ]
}