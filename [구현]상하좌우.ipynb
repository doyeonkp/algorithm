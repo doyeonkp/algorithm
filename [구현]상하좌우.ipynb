{
  "nbformat": 4,
  "nbformat_minor": 0,
  "metadata": {
    "colab": {
      "name": "[구현]상하좌우.ipynb",
      "provenance": [],
      "authorship_tag": "ABX9TyPXH7zILsy8uJHKDUej1zn6",
      "include_colab_link": true
    },
    "kernelspec": {
      "name": "python3",
      "display_name": "Python 3"
    },
    "language_info": {
      "name": "python"
    }
  },
  "cells": [
    {
      "cell_type": "markdown",
      "metadata": {
        "id": "view-in-github",
        "colab_type": "text"
      },
      "source": [
        "<a href=\"https://colab.research.google.com/github/doyeonkp/algorithm/blob/main/%5B%EA%B5%AC%ED%98%84%5D%EC%83%81%ED%95%98%EC%A2%8C%EC%9A%B0.ipynb\" target=\"_parent\"><img src=\"https://colab.research.google.com/assets/colab-badge.svg\" alt=\"Open In Colab\"/></a>"
      ]
    },
    {
      "cell_type": "code",
      "metadata": {
        "colab": {
          "base_uri": "https://localhost:8080/"
        },
        "id": "sYpPHNg1_hWP",
        "outputId": "873d9964-0278-4f35-f121-a12448e5e40d"
      },
      "source": [
        "k = int(input())\n",
        "plan = input().split()\n",
        "x, y = 1,1\n",
        "\n",
        "direction = [\"R\", \"L\", \"U\", \"D\"]\n",
        "dx = [0,0,-1,1]\n",
        "dy = [1,-1,0,0]\n",
        "\n",
        "for go in plan:\n",
        "    for i, val in enumerate(direction):\n",
        "        if go == val:\n",
        "            nx = x + dx[i]\n",
        "            ny = y + dy[i]\n",
        "    if nx < 1 or ny < 1 or nx > k or ny > k:\n",
        "        continue\n",
        "    x = nx\n",
        "    y = ny\n",
        "\n",
        "print(x,y)\n"
      ],
      "execution_count": 8,
      "outputs": [
        {
          "output_type": "stream",
          "text": [
            "5\n",
            "R R R U D D\n",
            "3 4\n"
          ],
          "name": "stdout"
        }
      ]
    },
    {
      "cell_type": "code",
      "metadata": {
        "colab": {
          "base_uri": "https://localhost:8080/"
        },
        "id": "sWC1bMZj_7Ib",
        "outputId": "4192a9d5-4eda-4de6-86b6-7264d87acd44"
      },
      "source": [
        "# book solution\n",
        "n = int(input())\n",
        "x,y = 1,1\n",
        "plans = input().split()\n",
        "\n",
        "# L,R,U,D에 따른 이동 방향\n",
        "dx = [0,0,-1,1]\n",
        "dy = [-1,1,0,0]\n",
        "move_type = [\"L\",\"R\",\"U\",\"D\"]\n",
        "\n",
        "for plan in plans:\n",
        "    for i in range(len(move_type)):\n",
        "        if plan == move_type[i]:\n",
        "            nx = x + dx[i]\n",
        "            ny = y + dy[i]\n",
        "        #공간을 벗어나는 경우 무시\n",
        "    if nx < 1 or ny < 1 or ny > k or nx > k:\n",
        "        continue\n",
        "    x = nx\n",
        "    y = ny\n",
        "\n",
        "print(x,y)"
      ],
      "execution_count": 13,
      "outputs": [
        {
          "output_type": "stream",
          "text": [
            "5\n",
            "R R R U D D\n",
            "ck  1   2\n",
            "ck  1   3\n",
            "ck  1   4\n",
            "ck  0   4\n",
            "ck  2   4\n",
            "ck  3   4\n",
            "3 4\n"
          ],
          "name": "stdout"
        }
      ]
    }
  ]
}