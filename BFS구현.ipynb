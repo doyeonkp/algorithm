{
  "nbformat": 4,
  "nbformat_minor": 0,
  "metadata": {
    "colab": {
      "name": "Untitled3.ipynb",
      "provenance": [],
      "authorship_tag": "ABX9TyOi9xy3Qx4XJ/KCaIoqbhVi",
      "include_colab_link": true
    },
    "kernelspec": {
      "name": "python3",
      "display_name": "Python 3"
    },
    "language_info": {
      "name": "python"
    }
  },
  "cells": [
    {
      "cell_type": "markdown",
      "metadata": {
        "id": "view-in-github",
        "colab_type": "text"
      },
      "source": [
        "<a href=\"https://colab.research.google.com/github/doyeonkp/algorithm/blob/main/BFS%EA%B5%AC%ED%98%84.ipynb\" target=\"_parent\"><img src=\"https://colab.research.google.com/assets/colab-badge.svg\" alt=\"Open In Colab\"/></a>"
      ]
    },
    {
      "cell_type": "code",
      "metadata": {
        "id": "WMvcMLIoySaU"
      },
      "source": [
        "graph = dict()\n",
        "\n",
        "graph['A'] = ['B', 'C']\n",
        "graph['B'] = ['A', 'D']\n",
        "graph['C'] = ['A', 'G', 'H', 'I']\n",
        "graph['D'] = ['B', 'E', 'F']\n",
        "graph['E'] = ['D']\n",
        "graph['F'] = ['D']\n",
        "graph['G'] = ['C']\n",
        "graph['H'] = ['C']\n",
        "graph['I'] = ['C', 'J']\n",
        "graph['J'] = ['I']"
      ],
      "execution_count": 1,
      "outputs": []
    },
    {
      "cell_type": "code",
      "metadata": {
        "id": "g5upp5DO3V7I"
      },
      "source": [
        "def BFS(graph, start_node):\n",
        "    need_to_visit = []\n",
        "    visited = []\n",
        "\n",
        "    need_to_visit.append(start_node)\n",
        "\n",
        "    while need_to_visit:\n",
        "        node = need_to_visit.pop(0)\n",
        "        if node not in visited:\n",
        "            visited.append(node)\n",
        "            need_to_visit.extend(graph[node])\n",
        "    return visited\n"
      ],
      "execution_count": 8,
      "outputs": []
    },
    {
      "cell_type": "code",
      "metadata": {
        "colab": {
          "base_uri": "https://localhost:8080/"
        },
        "id": "NS499xEV4bFt",
        "outputId": "b868d280-ac14-4c0c-c873-b44f30bf8300"
      },
      "source": [
        "BFS(graph, 'A')"
      ],
      "execution_count": 9,
      "outputs": [
        {
          "output_type": "execute_result",
          "data": {
            "text/plain": [
              "['A', 'B', 'C', 'D', 'G', 'H', 'I', 'E', 'F', 'J']"
            ]
          },
          "metadata": {
            "tags": []
          },
          "execution_count": 9
        }
      ]
    },
    {
      "cell_type": "code",
      "metadata": {
        "colab": {
          "base_uri": "https://localhost:8080/"
        },
        "id": "cDy-DkTN4fdk",
        "outputId": "a3c945a5-96ae-43db-ea14-8b68cd12accd"
      },
      "source": [
        "BFS(graph, 'C')"
      ],
      "execution_count": 10,
      "outputs": [
        {
          "output_type": "execute_result",
          "data": {
            "text/plain": [
              "['C', 'A', 'G', 'H', 'I', 'B', 'J', 'D', 'E', 'F']"
            ]
          },
          "metadata": {
            "tags": []
          },
          "execution_count": 10
        }
      ]
    },
    {
      "cell_type": "code",
      "metadata": {
        "id": "v9H2zu8M4x96"
      },
      "source": [
        ""
      ],
      "execution_count": null,
      "outputs": []
    }
  ]
}